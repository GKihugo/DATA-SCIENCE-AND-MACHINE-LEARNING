{
 "cells": [
  {
   "cell_type": "code",
   "execution_count": 1,
   "metadata": {},
   "outputs": [],
   "source": [
    "import numpy as np\n"
   ]
  },
  {
   "cell_type": "code",
   "execution_count": 2,
   "metadata": {},
   "outputs": [],
   "source": [
    "gamma=0.75 #Gamma/discount factor\n",
    "alpha=0.9\n",
    "\n",
    "\n"
   ]
  },
  {
   "cell_type": "code",
   "execution_count": 4,
   "metadata": {},
   "outputs": [],
   "source": [
    "location_to_state={\n",
    "    'L1':0,\n",
    "    'L2':1,\n",
    "    'L3':2,\n",
    "    'L4':3,\n",
    "    'L5':4,\n",
    "    'L6':5,\n",
    "    'L7':7,\n",
    "    'L8':8,\n",
    "    'L9':9\n",
    "    \n",
    "}"
   ]
  },
  {
   "cell_type": "code",
   "execution_count": 5,
   "metadata": {},
   "outputs": [],
   "source": [
    "actions={0,1,2,3,4,5,6,7,8}"
   ]
  },
  {
   "cell_type": "code",
   "execution_count": 7,
   "metadata": {},
   "outputs": [],
   "source": [
    "rewards=np.array([\n",
    "    [0,1,0,0,0,0,0,0,0],\n",
    "    [1,0,1,0,0,0,0,0,0],\n",
    "    [0,1,0,0,0,1,0,0,0],\n",
    "    [0,0,0,0,0,0,1,0,0],\n",
    "    [0,1,0,0,0,0,0,1,0],\n",
    "    [0,0,1,0,0,0,0,0,0],\n",
    "    [0,0,0,1,0,0,0,1,0],\n",
    "    [0,0,0,0,1,0,1,0,1],\n",
    "    [0,0,0,0,0,0,0,1,0],\n",
    "])"
   ]
  },
  {
   "cell_type": "code",
   "execution_count": 9,
   "metadata": {},
   "outputs": [],
   "source": [
    "#maps indices to location\n",
    "state_to_location=dict((state,location) for location,state in location_to_state.items())"
   ]
  },
  {
   "cell_type": "code",
   "execution_count": null,
   "metadata": {},
   "outputs": [],
   "source": [
    "def get_optimal_route(start_location,end_location):\n",
    "    rewards_new=np.copy(rewards)\n",
    "    ending_state=location_to_state(end_location)\n",
    "    rewards_new[ending_state]"
   ]
  }
 ],
 "metadata": {
  "kernelspec": {
   "display_name": "Python 3",
   "language": "python",
   "name": "python3"
  },
  "language_info": {
   "codemirror_mode": {
    "name": "ipython",
    "version": 3
   },
   "file_extension": ".py",
   "mimetype": "text/x-python",
   "name": "python",
   "nbconvert_exporter": "python",
   "pygments_lexer": "ipython3",
   "version": "3.7.6"
  }
 },
 "nbformat": 4,
 "nbformat_minor": 4
}

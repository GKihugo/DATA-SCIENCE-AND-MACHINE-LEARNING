{
 "cells": [
  {
   "cell_type": "code",
   "execution_count": 2,
   "metadata": {},
   "outputs": [],
   "source": [
    "import pandas as pd\n",
    "import matplotlib.pyplot as plot\n",
    "%matplotlib inline"
   ]
  },
  {
   "cell_type": "code",
   "execution_count": 4,
   "metadata": {},
   "outputs": [],
   "source": [
    "df=pd.read_csv('C:\\\\Users\\\\George.Macharia\\Downloads\\\\estimated_numbers.csv')\n"
   ]
  },
  {
   "cell_type": "code",
   "execution_count": 5,
   "metadata": {},
   "outputs": [
    {
     "data": {
      "text/plain": [
       "(856, 11)"
      ]
     },
     "execution_count": 5,
     "metadata": {},
     "output_type": "execute_result"
    }
   ],
   "source": [
    "df.shape\n"
   ]
  },
  {
   "cell_type": "code",
   "execution_count": 9,
   "metadata": {},
   "outputs": [
    {
     "data": {
      "text/html": [
       "<div>\n",
       "<style scoped>\n",
       "    .dataframe tbody tr th:only-of-type {\n",
       "        vertical-align: middle;\n",
       "    }\n",
       "\n",
       "    .dataframe tbody tr th {\n",
       "        vertical-align: top;\n",
       "    }\n",
       "\n",
       "    .dataframe thead th {\n",
       "        text-align: right;\n",
       "    }\n",
       "</style>\n",
       "<table border=\"1\" class=\"dataframe\">\n",
       "  <thead>\n",
       "    <tr style=\"text-align: right;\">\n",
       "      <th></th>\n",
       "      <th>Country</th>\n",
       "      <th>Year</th>\n",
       "      <th>No. of cases</th>\n",
       "      <th>No. of deaths</th>\n",
       "      <th>No. of cases_median</th>\n",
       "      <th>No. of cases_min</th>\n",
       "      <th>No. of cases_max</th>\n",
       "      <th>No. of deaths_median</th>\n",
       "      <th>No. of deaths_min</th>\n",
       "      <th>No. of deaths_max</th>\n",
       "      <th>WHO Region</th>\n",
       "    </tr>\n",
       "  </thead>\n",
       "  <tbody>\n",
       "    <tr>\n",
       "      <th>0</th>\n",
       "      <td>Afghanistan</td>\n",
       "      <td>2017</td>\n",
       "      <td>630308[495000-801000]</td>\n",
       "      <td>298[110-510]</td>\n",
       "      <td>630308</td>\n",
       "      <td>495000.0</td>\n",
       "      <td>801000.0</td>\n",
       "      <td>298</td>\n",
       "      <td>110.0</td>\n",
       "      <td>510.0</td>\n",
       "      <td>Eastern Mediterranean</td>\n",
       "    </tr>\n",
       "    <tr>\n",
       "      <th>1</th>\n",
       "      <td>Algeria</td>\n",
       "      <td>2017</td>\n",
       "      <td>0</td>\n",
       "      <td>0</td>\n",
       "      <td>0</td>\n",
       "      <td>NaN</td>\n",
       "      <td>NaN</td>\n",
       "      <td>0</td>\n",
       "      <td>NaN</td>\n",
       "      <td>NaN</td>\n",
       "      <td>Africa</td>\n",
       "    </tr>\n",
       "    <tr>\n",
       "      <th>2</th>\n",
       "      <td>Angola</td>\n",
       "      <td>2017</td>\n",
       "      <td>4615605[3106000-6661000]</td>\n",
       "      <td>13316[9970-16600]</td>\n",
       "      <td>4615605</td>\n",
       "      <td>3106000.0</td>\n",
       "      <td>6661000.0</td>\n",
       "      <td>13316</td>\n",
       "      <td>9970.0</td>\n",
       "      <td>16600.0</td>\n",
       "      <td>Africa</td>\n",
       "    </tr>\n",
       "    <tr>\n",
       "      <th>3</th>\n",
       "      <td>Argentina</td>\n",
       "      <td>2017</td>\n",
       "      <td>0</td>\n",
       "      <td>0</td>\n",
       "      <td>0</td>\n",
       "      <td>NaN</td>\n",
       "      <td>NaN</td>\n",
       "      <td>0</td>\n",
       "      <td>NaN</td>\n",
       "      <td>NaN</td>\n",
       "      <td>Americas</td>\n",
       "    </tr>\n",
       "    <tr>\n",
       "      <th>4</th>\n",
       "      <td>Armenia</td>\n",
       "      <td>2017</td>\n",
       "      <td>0</td>\n",
       "      <td>0</td>\n",
       "      <td>0</td>\n",
       "      <td>NaN</td>\n",
       "      <td>NaN</td>\n",
       "      <td>0</td>\n",
       "      <td>NaN</td>\n",
       "      <td>NaN</td>\n",
       "      <td>Europe</td>\n",
       "    </tr>\n",
       "  </tbody>\n",
       "</table>\n",
       "</div>"
      ],
      "text/plain": [
       "       Country  Year              No. of cases      No. of deaths  \\\n",
       "0  Afghanistan  2017     630308[495000-801000]       298[110-510]   \n",
       "1      Algeria  2017                         0                  0   \n",
       "2       Angola  2017  4615605[3106000-6661000]  13316[9970-16600]   \n",
       "3    Argentina  2017                         0                  0   \n",
       "4      Armenia  2017                         0                  0   \n",
       "\n",
       "   No. of cases_median  No. of cases_min  No. of cases_max  \\\n",
       "0               630308          495000.0          801000.0   \n",
       "1                    0               NaN               NaN   \n",
       "2              4615605         3106000.0         6661000.0   \n",
       "3                    0               NaN               NaN   \n",
       "4                    0               NaN               NaN   \n",
       "\n",
       "   No. of deaths_median  No. of deaths_min  No. of deaths_max  \\\n",
       "0                   298              110.0              510.0   \n",
       "1                     0                NaN                NaN   \n",
       "2                 13316             9970.0            16600.0   \n",
       "3                     0                NaN                NaN   \n",
       "4                     0                NaN                NaN   \n",
       "\n",
       "              WHO Region  \n",
       "0  Eastern Mediterranean  \n",
       "1                 Africa  \n",
       "2                 Africa  \n",
       "3               Americas  \n",
       "4                 Europe  "
      ]
     },
     "execution_count": 9,
     "metadata": {},
     "output_type": "execute_result"
    }
   ],
   "source": [
    "df.head()"
   ]
  },
  {
   "cell_type": "code",
   "execution_count": 12,
   "metadata": {},
   "outputs": [],
   "source": [
    "%matplotlib inline\n",
    "from copy import deepcopy\n",
    "import numpy as np\n",
    "import pandas as pd\n",
    "import seaborn as sns\n",
    "sns.set()#for plot styling\n",
    "from  matplotlib import pyplot as plt\n",
    "plt.rcParams['figure.figsize']=(15,9)\n",
    "plt.style.use('ggplot')\n"
   ]
  },
  {
   "cell_type": "code",
   "execution_count": 14,
   "metadata": {},
   "outputs": [
    {
     "data": {
      "text/plain": [
       "Index(['Country', 'Year', 'No. of cases', 'No. of deaths',\n",
       "       'No. of cases_median', 'No. of cases_min', 'No. of cases_max',\n",
       "       'No. of deaths_median', 'No. of deaths_min', 'No. of deaths_max',\n",
       "       'WHO Region'],\n",
       "      dtype='object')"
      ]
     },
     "execution_count": 14,
     "metadata": {},
     "output_type": "execute_result"
    }
   ],
   "source": [
    "df.columns"
   ]
  },
  {
   "cell_type": "code",
   "execution_count": 19,
   "metadata": {},
   "outputs": [
    {
     "data": {
      "text/plain": [
       "Index(['Year', 'No. of cases_median'], dtype='object')"
      ]
     },
     "execution_count": 19,
     "metadata": {},
     "output_type": "execute_result"
    }
   ],
   "source": [
    "newdata=df.iloc[:,1:5:3]\n",
    "newdata.columns"
   ]
  },
  {
   "cell_type": "code",
   "execution_count": 20,
   "metadata": {},
   "outputs": [],
   "source": [
    "from sklearn.cluster import KMeans"
   ]
  },
  {
   "cell_type": "code",
   "execution_count": 21,
   "metadata": {},
   "outputs": [],
   "source": [
    "kmeans=KMeans(n_clusters=5)"
   ]
  },
  {
   "cell_type": "code",
   "execution_count": 22,
   "metadata": {},
   "outputs": [
    {
     "data": {
      "text/plain": [
       "KMeans(algorithm='auto', copy_x=True, init='k-means++', max_iter=300,\n",
       "       n_clusters=5, n_init=10, n_jobs=None, precompute_distances='auto',\n",
       "       random_state=None, tol=0.0001, verbose=0)"
      ]
     },
     "execution_count": 22,
     "metadata": {},
     "output_type": "execute_result"
    }
   ],
   "source": [
    "kmeans.fit(newdata)"
   ]
  },
  {
   "cell_type": "code",
   "execution_count": 23,
   "metadata": {},
   "outputs": [
    {
     "data": {
      "text/plain": [
       "array([[2.01352846e+03, 3.08460893e+06],\n",
       "       [2.01350000e+03, 5.78717999e+07],\n",
       "       [2.01290000e+03, 2.25675006e+07],\n",
       "       [2.01349298e+03, 1.76780888e+05],\n",
       "       [2.01359459e+03, 8.11906615e+06]])"
      ]
     },
     "execution_count": 23,
     "metadata": {},
     "output_type": "execute_result"
    }
   ],
   "source": [
    "kmeans.cluster_centers_\n",
    "#printing the length of k means cluster centers\n",
    "#print(len(kmeans.cluster_centers_))"
   ]
  },
  {
   "cell_type": "code",
   "execution_count": 26,
   "metadata": {},
   "outputs": [
    {
     "name": "stdout",
     "output_type": "stream",
     "text": [
      "[3 3 0 3 3 3 3 3 0 3 3 3 3 4 0 3 3 4 0 0 3 3 3 3 3 0 3 2 3 3 3 3 3 3 3 3 0\n",
      " 3 3 3 4 3 0 3 3 3 3 4 3 3 3 3 0 3 3 3 0 0 3 4 3 3 3 4 3 3 3 3 4 1 3 3 3 3\n",
      " 3 3 3 3 4 3 3 3 0 3 3 3 0 3 3 3 3 3 3 3 0 3 3 4 3 4 3 3 3 3 3 0 3 3 3 0 3\n",
      " 3 3 3 3 0 3 3 3 3 4 0 3 3 4 0 0 3 3 3 3 3 0 3 2 3 3 3 3 3 3 3 3 0 3 3 3 4\n",
      " 3 0 3 3 3 3 4 3 3 3 3 0 3 3 3 0 0 3 4 3 3 3 4 3 3 3 3 4 1 3 3 3 3 3 3 3 3\n",
      " 4 3 3 3 0 3 3 3 0 3 3 3 3 3 3 3 0 3 3 4 3 4 3 3 3 3 3 0 3 3 3 0 3 3 3 3 3\n",
      " 0 3 3 3 3 4 0 3 3 4 0 0 3 3 3 3 3 0 3 2 3 3 3 3 3 3 3 3 0 3 3 3 4 3 0 3 3\n",
      " 3 3 4 3 3 3 3 0 3 3 3 0 0 3 4 3 3 3 4 3 3 3 3 4 1 3 3 3 3 3 3 3 3 0 3 3 3\n",
      " 0 3 3 3 0 3 3 3 3 3 3 3 0 3 3 4 3 4 3 3 3 3 3 0 3 3 3 0 3 3 3 3 3 0 3 3 3\n",
      " 3 4 0 3 3 4 0 0 3 3 3 3 3 0 3 2 3 3 3 3 3 3 3 3 0 3 3 3 4 3 0 3 3 3 3 4 3\n",
      " 3 3 3 0 3 3 3 3 0 3 4 3 3 3 4 3 3 3 3 4 1 3 3 3 0 3 3 3 3 0 3 3 3 0 3 3 3\n",
      " 0 3 3 3 3 3 3 3 0 3 3 4 3 4 3 3 3 3 3 0 3 3 3 0 3 3 3 3 3 0 3 3 3 3 4 3 3\n",
      " 3 4 0 0 3 3 3 3 3 0 3 2 3 3 3 3 3 3 3 3 0 3 3 3 4 3 0 3 3 3 3 4 0 3 3 3 0\n",
      " 3 3 3 0 0 3 4 3 3 3 4 3 3 3 3 4 1 3 3 3 0 3 3 3 3 3 3 3 3 0 3 3 3 0 3 3 3\n",
      " 3 3 3 3 0 3 3 4 3 4 3 3 3 3 3 0 3 3 3 0 3 3 3 3 3 0 3 3 3 3 4 3 3 3 4 0 0\n",
      " 3 3 3 3 3 4 3 2 3 3 3 3 3 3 3 3 0 3 3 3 4 3 0 3 3 3 3 4 0 3 3 3 0 3 3 3 0\n",
      " 0 3 4 3 3 3 4 0 3 3 3 4 1 3 0 3 3 3 3 3 3 3 3 3 3 0 3 3 3 0 3 3 3 3 3 3 3\n",
      " 0 3 3 4 3 4 3 3 3 3 3 0 3 3 3 0 3 3 3 3 3 0 3 3 3 3 4 3 3 3 0 0 0 3 3 3 3\n",
      " 3 4 3 2 3 3 3 3 3 3 3 3 0 3 3 3 4 3 0 3 3 3 3 2 0 3 3 3 0 3 3 3 3 0 3 4 3\n",
      " 3 3 4 3 3 3 3 4 1 3 0 3 3 3 3 3 3 3 3 3 3 0 3 3 3 0 3 3 3 3 3 3 3 0 3 3 4\n",
      " 3 4 3 3 3 3 3 0 3 3 3 0 3 3 3 3 3 0 3 3 3 3 4 3 3 3 0 0 0 3 3 3 3 3 4 3 2\n",
      " 3 3 3 3 3 3 3 3 4 3 3 3 4 3 0 3 3 3 3 2 0 3 3 3 0 3 3 3 3 0 3 4 3 3 3 4 0\n",
      " 3 3 3 4 1 3 3 3 3 3 3 3 3 3 3 3 3 0 3 3 3 0 3 3 3 3 3 3 3 0 3 3 4 3 4 3 3\n",
      " 3 3 3 0 3]\n",
      "856\n"
     ]
    }
   ],
   "source": [
    "print(kmeans.labels_)\n",
    "print(len(kmeans.labels_))"
   ]
  },
  {
   "cell_type": "code",
   "execution_count": 30,
   "metadata": {},
   "outputs": [
    {
     "name": "stdout",
     "output_type": "stream",
     "text": [
      "{0: 123, 1: 8, 2: 10, 3: 641, 4: 74}\n",
      "{(4, 74), (0, 123), (3, 641), (2, 10), (1, 8)}\n"
     ]
    }
   ],
   "source": [
    "unique,counts=np.unique(kmeans.labels_,return_counts=True)\n",
    "print(dict(zip(unique,counts)))\n",
    "print(set(zip(unique,counts)))"
   ]
  },
  {
   "cell_type": "code",
   "execution_count": 31,
   "metadata": {},
   "outputs": [
    {
     "name": "stderr",
     "output_type": "stream",
     "text": [
      "C:\\Users\\George.Macharia\\Anaconda3\\lib\\site-packages\\seaborn\\regression.py:574: UserWarning: The `size` parameter has been renamed to `height`; please update your code.\n",
      "  warnings.warn(msg, UserWarning)\n"
     ]
    },
    {
     "data": {
      "text/plain": [
       "<seaborn.axisgrid.FacetGrid at 0x23faf618588>"
      ]
     },
     "execution_count": 31,
     "metadata": {},
     "output_type": "execute_result"
    },
    {
     "data": {
      "image/png": "[encoded data removed]",
      "text/plain": [
       "<Figure size 477.85x432 with 1 Axes>"
      ]
     },
     "metadata": {},
     "output_type": "display_data"
    }
   ],
   "source": [
    "newdata['cluster']=kmeans.labels_\n",
    "sns.set_style('whitegrid')\n",
    "sns.lmplot('Year','No. of cases_median',data=newdata,hue='cluster',palette='coolwarm',size=6,\n",
    "          aspect=1,fit_reg=False)"
   ]
  },
  {
   "cell_type": "code",
   "execution_count": null,
   "metadata": {},
   "outputs": [],
   "source": []
  }
 ],
 "metadata": {
  "kernelspec": {
   "display_name": "Python 3",
   "language": "python",
   "name": "python3"
  },
  "language_info": {
   "codemirror_mode": {
    "name": "ipython",
    "version": 3
   },
   "file_extension": ".py",
   "mimetype": "text/x-python",
   "name": "python",
   "nbconvert_exporter": "python",
   "pygments_lexer": "ipython3",
   "version": "3.7.6"
  }
 },
 "nbformat": 4,
 "nbformat_minor": 4
}
